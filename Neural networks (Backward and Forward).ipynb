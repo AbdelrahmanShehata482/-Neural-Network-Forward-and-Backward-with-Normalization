{
 "cells": [
  {
   "cell_type": "code",
   "execution_count": 2,
   "id": "40c89d2c",
   "metadata": {},
   "outputs": [],
   "source": [
    "import numpy as np\n",
    "import pandas as pd\n",
    "import matplotlib.pyplot as plt\n",
    "from utils import relu_backward,sigmoid_backward,relu,sigmoid\n",
    "# from utils import*"
   ]
  },
  {
   "cell_type": "code",
   "execution_count": 3,
   "id": "2ef0599e",
   "metadata": {
    "scrolled": false
   },
   "outputs": [],
   "source": [
    "file = pd.read_csv(\"Train_data.csv\")\n",
    "Y=np.array(file.iloc[:,0]).reshape(97,1)\n",
    "data=file.iloc[:,1:14]\n",
    "# print(data)\n",
    "# print(Y)"
   ]
  },
  {
   "cell_type": "code",
   "execution_count": 4,
   "id": "8fb3ca7b",
   "metadata": {},
   "outputs": [],
   "source": [
    "def initialize_parameters(linear_dims):\n",
    "    x=1\n",
    "    total={}\n",
    "    while x<len(linear_dims):\n",
    "        weight=np.random.randn(linear_dims[x],linear_dims[x-1])\n",
    "        total.update({\"W\"+str(x) : weight})\n",
    "        bais=np.zeros((linear_dims[x],1))\n",
    "        total.update({(\"b\"+str(x)) : bais})\n",
    "        x=x+1\n",
    "    return total   "
   ]
  },
  {
   "cell_type": "code",
   "execution_count": 5,
   "id": "f15d26f9",
   "metadata": {},
   "outputs": [],
   "source": [
    "# A is input\n",
    "def linear_forward(A,W,b):\n",
    "        A=np.array(A).T\n",
    "        z=W.dot(A)+b\n",
    "        cache=(A,W,b)\n",
    "        return z,cache"
   ]
  },
  {
   "cell_type": "code",
   "execution_count": 6,
   "id": "c29efa07",
   "metadata": {},
   "outputs": [],
   "source": [
    "def activation_forward(A_prev, W, b, activation): \n",
    "    # Inputs: \"A_prev, W, b\". Outputs: \"A, activation_cache\".  \n",
    "    Z, linear_cache = linear_forward(A_prev,W,b)\n",
    "    if activation == \"sigmoid\":    \n",
    "        A, act_cache = sigmoid(Z)      \n",
    "    elif activation == \"relu\": \n",
    "        A, act_cache = relu(Z)\n",
    "    else:\n",
    "        A=print(\"not defined\")    \n",
    "    cache = (linear_cache, act_cache)\n",
    "    return A, cache"
   ]
  },
  {
   "cell_type": "code",
   "execution_count": 7,
   "id": "004878ef",
   "metadata": {},
   "outputs": [],
   "source": [
    "def model_forward(x, parameters):\n",
    "    cache=[]\n",
    "    i=2\n",
    "    AL,c=activation_forward(x,parameters[\"W1\"],parameters[\"b1\"],'relu')\n",
    "    cache.append(c)\n",
    "    while i<len(parameters)/2:\n",
    "        AL,c=activation_forward(AL.T,parameters[\"W\"+str(i)],parameters[\"b\"+str(i)],'sigmoid')\n",
    "        cache.append(c)\n",
    "        i=i+1    \n",
    "    AL,c=activation_forward(AL.T,parameters[\"W\"+str(i)],parameters[\"b\"+str(i)],'sigmoid')\n",
    "    cache.append(c)\n",
    "    return AL,cache"
   ]
  },
  {
   "cell_type": "code",
   "execution_count": 8,
   "id": "e7bf0cd1",
   "metadata": {},
   "outputs": [],
   "source": [
    "def compute_cost(AL, Y):\n",
    "    # number of samples\n",
    "    m = len(Y)\n",
    "    \n",
    "    j = (-1/m) * np.sum ( (   Y*np.log(AL.T)   +  (1-Y)*np.log(1-AL.T) ) )\n",
    "    return j"
   ]
  },
  {
   "cell_type": "code",
   "execution_count": 9,
   "id": "7a412902",
   "metadata": {},
   "outputs": [],
   "source": [
    "def linear_backward(dZ, cache):\n",
    "    A_prev, W, b = cache\n",
    "    m = A_prev.shape[1]\n",
    "\n",
    "    dW = 1./m * np.dot(dZ, A_prev.T)\n",
    "    db = 1./m * np.sum(dZ)\n",
    "    dA_prev = np.dot(W.T, dZ)\n",
    "    \n",
    "    return dA_prev, dW, db"
   ]
  },
  {
   "cell_type": "code",
   "execution_count": 10,
   "id": "5640c5bb",
   "metadata": {},
   "outputs": [],
   "source": [
    "def activation_backward(dA, cache, activation):\n",
    "\n",
    "    linear_cache, activation_cache = cache\n",
    "    \n",
    "    if activation == \"relu\":\n",
    "        dZ = relu_backward(dA, activation_cache)\n",
    "        dA_prev, dW, db = linear_backward(dZ, linear_cache)\n",
    "        \n",
    "    elif activation == \"sigmoid\":\n",
    "        dZ = sigmoid_backward(dA, activation_cache)\n",
    "        dA_prev, dW, db = linear_backward(dZ, linear_cache)\n",
    "    else:\n",
    "        print(\"not defined\")     \n",
    "    \n",
    "    return dA_prev, dW, db"
   ]
  },
  {
   "cell_type": "code",
   "execution_count": 11,
   "id": "2010ea48",
   "metadata": {},
   "outputs": [],
   "source": [
    "def model_backward(AL, Y, caches):\n",
    "    grads = {}\n",
    "    L = len(caches) \n",
    "    Y = Y.reshape(AL.shape)\n",
    "    dAL = - (np.divide(Y, AL) - np.divide(1 - Y, 1 - AL))\n",
    "    current_cache = caches[L-1] \n",
    "    grads[\"dA\" + str(L-1)], grads[\"dW\" + str(L)], grads[\"db\" + str(L)] = activation_backward(dAL, current_cache, \"sigmoid\")\n",
    "    for l in reversed(range(L-1)):\n",
    "        current_cache = caches[l]\n",
    "        dA_prev_temp, dW_temp, db_temp = activation_backward(grads[\"dA\" + str(l + 1)], current_cache, activation = \"sigmoid\")\n",
    "        grads[\"dA\" + str(l)] = dA_prev_temp\n",
    "        grads[\"dW\" + str(l + 1)] = dW_temp\n",
    "        grads[\"db\" + str(l + 1)] = db_temp\n",
    "\n",
    "    return grads"
   ]
  },
  {
   "cell_type": "code",
   "execution_count": 12,
   "id": "75865523",
   "metadata": {},
   "outputs": [],
   "source": [
    "def update_parameters(parameters, grads, learning_rate):\n",
    "    L = len(parameters) // 2\n",
    "    for l in range(L):\n",
    "        parameters[\"W\" + str(l+1)] = parameters[\"W\" + str(l+1)] - learning_rate * grads[\"dW\" + str(l+1)]\n",
    "        parameters[\"b\" + str(l+1)] = parameters[\"b\" + str(l+1)] - learning_rate * grads[\"db\" + str(l+1)]\n",
    "    return parameters"
   ]
  },
  {
   "cell_type": "code",
   "execution_count": 13,
   "id": "00fbbdf7",
   "metadata": {},
   "outputs": [],
   "source": [
    "def train (data,labels,linear_dims,iterations,alpha,normalization='non'):\n",
    "    if normalization=='scaling':\n",
    "        number=int(input('enter number to divide data by it'))\n",
    "        data=data/number\n",
    "    elif normalization=='minmax':\n",
    "        min=data.min()\n",
    "        max=data.max()\n",
    "        new_max=float(input('enter the maximum number'))\n",
    "        new_min=float(input('enter the minimum number'))\n",
    "        data=(((data-min)/(max-min))*((new_max-new_min)-(new_min)))\n",
    "       # print (data)\n",
    "    elif normalization=='zscore':\n",
    "        data=(data-data.mean())/(data.std())\n",
    "       # print (data)\n",
    "    elif normalization=='non':\n",
    "        pass\n",
    "    else :\n",
    "        print('not defined')   \n",
    "    parameters=initialize_parameters(linear_dims)\n",
    "    cost_history=[]\n",
    "\n",
    "    for i in range(1,iterations):\n",
    "        AL, cache = model_forward(data, parameters)\n",
    "        cost=compute_cost(AL, labels)\n",
    "        cost_history.append(cost)\n",
    "        grads=model_backward(AL,labels,cache)\n",
    "        parameters=update_parameters(parameters,grads,alpha)\n",
    "    return parameters,AL,cost_history\n",
    "    "
   ]
  },
  {
   "cell_type": "code",
   "execution_count": 14,
   "id": "9977919b",
   "metadata": {
    "scrolled": false
   },
   "outputs": [
    {
     "name": "stderr",
     "output_type": "stream",
     "text": [
      "C:\\Users\\AL-alamia\\utils.py:4: RuntimeWarning: overflow encountered in exp\n",
      "  A = 1/(1+np.exp(-Z))\n",
      "C:\\Users\\AL-alamia\\utils.py:23: RuntimeWarning: overflow encountered in exp\n",
      "  s = 1/(1+np.exp(-Z))\n"
     ]
    }
   ],
   "source": [
    "# Y = np.random.rand(2, 1)\n",
    "# Y = np.array([[.1,.1]]).reshape(2, 1)\n",
    "# parameters={\n",
    "#             'W1':np.array([[2,1,2],[3,2,1]]).reshape(2,3),\n",
    "#             'b1':np.array([[0],[0]]).reshape(2,1)        ,\n",
    "#             'W2':np.array([[1,3],[2,1]]).reshape(2,2)    ,\n",
    "#             'b2':np.array([[0],[0]]).reshape(2,1)        ,\n",
    "#             'W3':np.array([[2,3]]).reshape(1,2)          ,\n",
    "#             'b3':np.array([[0]])\n",
    "#             }\n",
    "# data=np.array([[1,2,3],[2,1,2]])\n",
    "# min=data.min()\n",
    "# max=data.max()\n",
    "# data=(data-min)/(max-min)\n",
    "# data=data/100\n",
    "# AL, cache = model_forward(data, parameters)\n",
    "\n",
    "\n",
    "\n",
    "linear_dims=[13,5,5,1]\n",
    "parameters,AL,cost_history=train (data,Y,linear_dims,100,0.1,'non')"
   ]
  },
  {
   "cell_type": "code",
   "execution_count": 15,
   "id": "6d8143fc",
   "metadata": {},
   "outputs": [
    {
     "data": {
      "image/png": "[encoded data removed]",
      "text/plain": [
       "<Figure size 432x288 with 1 Axes>"
      ]
     },
     "metadata": {
      "needs_background": "light"
     },
     "output_type": "display_data"
    }
   ],
   "source": [
    "#x=np.arange(1,1000,1)\n",
    "y=cost_history\n",
    "plt.plot(y)  \n",
    "plt.xlabel(\"no_iterations\")\n",
    "plt.ylabel(\"Cost\")\n",
    "plt.title(\"Cost after some iterations\")\n",
    "plt.show()"
   ]
  },
  {
   "cell_type": "code",
   "execution_count": null,
   "id": "07785075",
   "metadata": {},
   "outputs": [],
   "source": []
  },
  {
   "cell_type": "code",
   "execution_count": null,
   "id": "b5b3485f",
   "metadata": {},
   "outputs": [],
   "source": []
  },
  {
   "cell_type": "code",
   "execution_count": null,
   "id": "1f58121d",
   "metadata": {},
   "outputs": [],
   "source": []
  },
  {
   "cell_type": "code",
   "execution_count": null,
   "id": "165f98f4",
   "metadata": {},
   "outputs": [],
   "source": []
  }
 ],
 "metadata": {
  "kernelspec": {
   "display_name": "Python 3 (ipykernel)",
   "language": "python",
   "name": "python3"
  },
  "language_info": {
   "codemirror_mode": {
    "name": "ipython",
    "version": 3
   },
   "file_extension": ".py",
   "mimetype": "text/x-python",
   "name": "python",
   "nbconvert_exporter": "python",
   "pygments_lexer": "ipython3",
   "version": "3.9.7"
  }
 },
 "nbformat": 4,
 "nbformat_minor": 5
}
